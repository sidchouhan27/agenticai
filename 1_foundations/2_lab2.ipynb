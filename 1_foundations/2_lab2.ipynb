{
 "cells": [
  {
   "cell_type": "markdown",
   "metadata": {},
   "source": [
    "## Welcome to the Second Lab - Week 1, Day 3\n",
    "\n",
    "Today we will work with lots of models! This is a way to get comfortable with APIs."
   ]
  },
  {
   "cell_type": "markdown",
   "metadata": {},
   "source": [
    "<table style=\"margin: 0; text-align: left; width:100%\">\n",
    "    <tr>\n",
    "        <td style=\"width: 150px; height: 150px; vertical-align: middle;\">\n",
    "            <img src=\"../assets/stop.png\" width=\"150\" height=\"150\" style=\"display: block;\" />\n",
    "        </td>\n",
    "        <td>\n",
    "            <h2 style=\"color:#ff7800;\">Important point - please read</h2>\n",
    "            <span style=\"color:#ff7800;\">The way I collaborate with you may be different to other courses you've taken. I prefer not to type code while you watch. Rather, I execute Jupyter Labs, like this, and give you an intuition for what's going on. My suggestion is that you carefully execute this yourself, <b>after</b> watching the lecture. Add print statements to understand what's going on, and then come up with your own variations.<br/><br/>If you have time, I'd love it if you submit a PR for changes in the community_contributions folder - instructions in the resources. Also, if you have a Github account, use this to showcase your variations. Not only is this essential practice, but it demonstrates your skills to others, including perhaps future clients or employers...\n",
    "            </span>\n",
    "        </td>\n",
    "    </tr>\n",
    "</table>"
   ]
  },
  {
   "cell_type": "code",
   "execution_count": 3,
   "metadata": {},
   "outputs": [],
   "source": [
    "# Start with imports - ask ChatGPT to explain any package that you don't know\n",
    "\n",
    "import os\n",
    "import json\n",
    "from dotenv import load_dotenv\n",
    "from openai import OpenAI\n",
    "from anthropic import Anthropic\n",
    "from IPython.display import Markdown, display"
   ]
  },
  {
   "cell_type": "code",
   "execution_count": 5,
   "metadata": {},
   "outputs": [
    {
     "data": {
      "text/plain": [
       "True"
      ]
     },
     "execution_count": 5,
     "metadata": {},
     "output_type": "execute_result"
    }
   ],
   "source": [
    "# Always remember to do this!\n",
    "load_dotenv(override=True)"
   ]
  },
  {
   "cell_type": "code",
   "execution_count": 7,
   "metadata": {},
   "outputs": [
    {
     "name": "stdout",
     "output_type": "stream",
     "text": [
      "OpenAI API Key exists and begins sk-proj-\n",
      "Anthropic API Key not set (and this is optional)\n",
      "Google API Key not set (and this is optional)\n",
      "DeepSeek API Key not set (and this is optional)\n",
      "Groq API Key not set (and this is optional)\n"
     ]
    }
   ],
   "source": [
    "# Print the key prefixes to help with any debugging\n",
    "\n",
    "openai_api_key = os.getenv('OPENAI_API_KEY')\n",
    "anthropic_api_key = os.getenv('ANTHROPIC_API_KEY')\n",
    "google_api_key = os.getenv('GOOGLE_API_KEY')\n",
    "deepseek_api_key = os.getenv('DEEPSEEK_API_KEY')\n",
    "groq_api_key = os.getenv('GROQ_API_KEY')\n",
    "\n",
    "if openai_api_key:\n",
    "    print(f\"OpenAI API Key exists and begins {openai_api_key[:8]}\")\n",
    "else:\n",
    "    print(\"OpenAI API Key not set\")\n",
    "    \n",
    "if anthropic_api_key:\n",
    "    print(f\"Anthropic API Key exists and begins {anthropic_api_key[:7]}\")\n",
    "else:\n",
    "    print(\"Anthropic API Key not set (and this is optional)\")\n",
    "\n",
    "if google_api_key:\n",
    "    print(f\"Google API Key exists and begins {google_api_key[:2]}\")\n",
    "else:\n",
    "    print(\"Google API Key not set (and this is optional)\")\n",
    "\n",
    "if deepseek_api_key:\n",
    "    print(f\"DeepSeek API Key exists and begins {deepseek_api_key[:3]}\")\n",
    "else:\n",
    "    print(\"DeepSeek API Key not set (and this is optional)\")\n",
    "\n",
    "if groq_api_key:\n",
    "    print(f\"Groq API Key exists and begins {groq_api_key[:4]}\")\n",
    "else:\n",
    "    print(\"Groq API Key not set (and this is optional)\")"
   ]
  },
  {
   "cell_type": "code",
   "execution_count": 8,
   "metadata": {},
   "outputs": [],
   "source": [
    "request = \"Please come up with a challenging, nuanced question that I can ask a number of LLMs to evaluate their intelligence. \"\n",
    "request += \"Answer only with the question, no explanation.\"\n",
    "messages = [{\"role\": \"user\", \"content\": request}]"
   ]
  },
  {
   "cell_type": "code",
   "execution_count": 9,
   "metadata": {},
   "outputs": [
    {
     "data": {
      "text/plain": [
       "[{'role': 'user',\n",
       "  'content': 'Please come up with a challenging, nuanced question that I can ask a number of LLMs to evaluate their intelligence. Answer only with the question, no explanation.'}]"
      ]
     },
     "execution_count": 9,
     "metadata": {},
     "output_type": "execute_result"
    }
   ],
   "source": [
    "messages"
   ]
  },
  {
   "cell_type": "code",
   "execution_count": 10,
   "metadata": {},
   "outputs": [
    {
     "name": "stdout",
     "output_type": "stream",
     "text": [
      "If a society has a strict moral code that permits sacrificing individuals for the greater good, how should one navigate the ethical dilemma of prioritizing collective well-being over individual rights, and what implications does this have for justice and accountability within that society?\n"
     ]
    }
   ],
   "source": [
    "openai = OpenAI()\n",
    "response = openai.chat.completions.create(\n",
    "    model=\"gpt-4o-mini\",\n",
    "    messages=messages,\n",
    ")\n",
    "question = response.choices[0].message.content\n",
    "print(question)\n"
   ]
  },
  {
   "cell_type": "code",
   "execution_count": 11,
   "metadata": {},
   "outputs": [],
   "source": [
    "competitors = []\n",
    "answers = []\n",
    "messages = [{\"role\": \"user\", \"content\": question}]"
   ]
  },
  {
   "cell_type": "code",
   "execution_count": 12,
   "metadata": {},
   "outputs": [
    {
     "data": {
      "text/markdown": [
       "Navigating the ethical dilemma of prioritizing collective well-being over individual rights in a society with a strict moral code that permits sacrificing individuals for the greater good requires a nuanced approach. Here are several key considerations:\n",
       "\n",
       "1. **Philosophical Frameworks**: Ethical challenges arise from differing philosophical perspectives. Utilitarianism promotes actions that maximize collective happiness, but this can justify harmful sacrifices. In contrast, deontological ethics emphasizes individual rights and moral duties, arguing that sacrificing individuals is inherently wrong regardless of outcomes. A society should critically evaluate these frameworks to ensure that moral decisions are not based solely on convenience or perceived utility.\n",
       "\n",
       "2. **Informed Consent and Autonomy**: Ethical frameworks should prioritize informed consent and respect for individual autonomy. Even in a system where individual sacrifice is permissible, it is vital to consider whether individuals can meaningfully consent to such actions. Ensuring that individuals are fully informed and able to weigh the implications of their potential sacrifice is paramount.\n",
       "\n",
       "3. **Transparency and Accountability**: A society that endorses sacrificing individuals for the greater good must establish mechanisms for transparency and accountability. This involves clearly defining criteria for what constitutes the \"greater good\" and who gets to decide which sacrifices are justified. Without accountability, there is a risk of abuse, where those in power might exploit the moral code for personal or political gain.\n",
       "\n",
       "4. **Checks and Balances**: Implementing checks and balances within the societal structure can help mitigate the dangers of sacrificing individuals. Independent institutions or committees could be tasked with reviewing and assessing the moral justifications for sacrifices, ensuring that they are made collectively rather than decisively by a select few.\n",
       "\n",
       "5. **Cultural and Societal Reflection**: A society must engage in constant reflection about its moral code. Are the sacrifices leading to true benefits for the collective, or are they merely reinforcing power structures or societal inequalities? Public discourse, inclusion of diverse perspectives, and ethical debate are essential for evolving moral understandings and ensuring justice.\n",
       "\n",
       "6. **Impact on Justice Systems**: The implications of allowing sacrifices for the greater good extend to the justice system. Standards of justice must reflect a balance between protecting individual rights and promoting collective welfare. This may involve rethinking punishment and rehabilitation if the moral framework allows for extreme measures against certain individuals for perceived societal benefit.\n",
       "\n",
       "7. **Long-Term Consequences**: Finally, a society should consider the long-term consequences of institutionalized sacrifice. While it may yield short-term benefits, the potential erosion of trust, social cohesion, and respect for individual rights can lead to a breakdown of the very fabric that holds society together. The moral fabric of society must not only reflect immediate needs but also consider legacy and future generations.\n",
       "\n",
       "In conclusion, while the ethical navigation of collective well-being versus individual rights is complex, it necessitates grounding in firm ethical principles, promoting accountability, ensuring informed consent, and fostering an environment of open dialogue. This balanced approach can help mitigate the moral implications of sacrificing individuals for the greater good and maintain justice within society."
      ],
      "text/plain": [
       "<IPython.core.display.Markdown object>"
      ]
     },
     "metadata": {},
     "output_type": "display_data"
    }
   ],
   "source": [
    "# The API we know well\n",
    "\n",
    "model_name = \"gpt-4o-mini\"\n",
    "\n",
    "response = openai.chat.completions.create(model=model_name, messages=messages)\n",
    "answer = response.choices[0].message.content\n",
    "\n",
    "display(Markdown(answer))\n",
    "competitors.append(model_name)\n",
    "answers.append(answer)"
   ]
  },
  {
   "cell_type": "code",
   "execution_count": null,
   "metadata": {},
   "outputs": [],
   "source": [
    "# # Anthropic has a slightly different API, and Max Tokens is required\n",
    "\n",
    "# model_name = \"claude-3-7-sonnet-latest\"\n",
    "\n",
    "# claude = Anthropic()\n",
    "# response = claude.messages.create(model=model_name, messages=messages, max_tokens=1000)\n",
    "# answer = response.content[0].text\n",
    "\n",
    "# display(Markdown(answer))\n",
    "# competitors.append(model_name)\n",
    "# answers.append(answer)"
   ]
  },
  {
   "cell_type": "code",
   "execution_count": null,
   "metadata": {},
   "outputs": [],
   "source": [
    "# gemini = OpenAI(api_key=google_api_key, base_url=\"https://generativelanguage.googleapis.com/v1beta/openai/\")\n",
    "# model_name = \"gemini-2.0-flash\"\n",
    "\n",
    "# response = gemini.chat.completions.create(model=model_name, messages=messages)\n",
    "# answer = response.choices[0].message.content\n",
    "\n",
    "# display(Markdown(answer))\n",
    "# competitors.append(model_name)\n",
    "# answers.append(answer)"
   ]
  },
  {
   "cell_type": "code",
   "execution_count": null,
   "metadata": {},
   "outputs": [],
   "source": [
    "# deepseek = OpenAI(api_key=deepseek_api_key, base_url=\"https://api.deepseek.com/v1\")\n",
    "# model_name = \"deepseek-chat\"\n",
    "\n",
    "# response = deepseek.chat.completions.create(model=model_name, messages=messages)\n",
    "# answer = response.choices[0].message.content\n",
    "\n",
    "# display(Markdown(answer))\n",
    "# competitors.append(model_name)\n",
    "# answers.append(answer)"
   ]
  },
  {
   "cell_type": "code",
   "execution_count": null,
   "metadata": {},
   "outputs": [],
   "source": [
    "# groq = OpenAI(api_key=groq_api_key, base_url=\"https://api.groq.com/openai/v1\")\n",
    "# model_name = \"llama-3.3-70b-versatile\"\n",
    "\n",
    "# response = groq.chat.completions.create(model=model_name, messages=messages)\n",
    "# answer = response.choices[0].message.content\n",
    "\n",
    "# display(Markdown(answer))\n",
    "# competitors.append(model_name)\n",
    "# answers.append(answer)\n"
   ]
  },
  {
   "cell_type": "markdown",
   "metadata": {},
   "source": [
    "## For the next cell, we will use Ollama\n",
    "\n",
    "Ollama runs a local web service that gives an OpenAI compatible endpoint,  \n",
    "and runs models locally using high performance C++ code.\n",
    "\n",
    "If you don't have Ollama, install it here by visiting https://ollama.com then pressing Download and following the instructions.\n",
    "\n",
    "After it's installed, you should be able to visit here: http://localhost:11434 and see the message \"Ollama is running\"\n",
    "\n",
    "You might need to restart Cursor (and maybe reboot). Then open a Terminal (control+\\`) and run `ollama serve`\n",
    "\n",
    "Useful Ollama commands (run these in the terminal, or with an exclamation mark in this notebook):\n",
    "\n",
    "`ollama pull <model_name>` downloads a model locally  \n",
    "`ollama ls` lists all the models you've downloaded  \n",
    "`ollama rm <model_name>` deletes the specified model from your downloads"
   ]
  },
  {
   "cell_type": "markdown",
   "metadata": {},
   "source": [
    "<table style=\"margin: 0; text-align: left; width:100%\">\n",
    "    <tr>\n",
    "        <td style=\"width: 150px; height: 150px; vertical-align: middle;\">\n",
    "            <img src=\"../assets/stop.png\" width=\"150\" height=\"150\" style=\"display: block;\" />\n",
    "        </td>\n",
    "        <td>\n",
    "            <h2 style=\"color:#ff7800;\">Super important - ignore me at your peril!</h2>\n",
    "            <span style=\"color:#ff7800;\">The model called <b>llama3.3</b> is FAR too large for home computers - it's not intended for personal computing and will consume all your resources! Stick with the nicely sized <b>llama3.2</b> or <b>llama3.2:1b</b> and if you want larger, try llama3.1 or smaller variants of Qwen, Gemma, Phi or DeepSeek. See the <A href=\"https://ollama.com/models\">the Ollama models page</a> for a full list of models and sizes.\n",
    "            </span>\n",
    "        </td>\n",
    "    </tr>\n",
    "</table>"
   ]
  },
  {
   "cell_type": "code",
   "execution_count": null,
   "metadata": {},
   "outputs": [],
   "source": [
    "# !ollama pull llama3.2"
   ]
  },
  {
   "cell_type": "code",
   "execution_count": 13,
   "metadata": {},
   "outputs": [
    {
     "data": {
      "text/markdown": [
       "When faced with an ethical dilemma where a society's strict moral code requires sacrificing individuals for the greater good, it presents intricate challenges to navigating the balance between the two. Here are some considerations to explore:\n",
       "\n",
       "1\\. Critical examination of priorities: The key is examining your value hierarchy and re-evaluating whether certain policies, values, or beliefs are worth making decisions based upon. It might be helpful in questioning why a particular moral code has led to this situation.\n",
       "\n",
       "2\\. Legal system oversight: Involving law enforcement would help establish accountability if it seems a group is infringing on specific rights while operating under false pretenses. An independent court of inquiry can decide whether the harm endured by certain individuals due to another's actions were justifiable.\n",
       "\n",
       "3\\. Individual dissent and opposition: Recognize when an individual has strong moral objections and acknowledge these opposing viewpoints as valid. Encourage them to speak out and work towards reform from within if they feel this policy will negatively impact their community\n",
       "\n",
       "4\\. Legal avenues for advocacy: Look into the legal frameworks that exist to protect your rights or bring changes to current policies. Familiarize yourself with relevant laws, court cases, and precedents.\n",
       "\n",
       "5\\. Community education and awareness campaign: The process of educating people on how their actions are being impacted, helps create a sense of accountability. If there's enough momentum for change, this may encourage policymakers to revise the existing regulations and ensure they align with what individuals believe is right\n",
       "\n",
       "6\\. Legal reforms for broader protections: Support policy proposals that enhance protections against such situations in the future. It can be especially crucial if those subjected might not be able to advocate for themselves, or if there's potential for mass suffering.\n",
       "\n",
       "7\\. Seeking support from experts and allies \n",
       "\n",
       "8\\. Engaging with authorities at different levels, involving lawyers, ethicists, psychologists, social scientists, among others"
      ],
      "text/plain": [
       "<IPython.core.display.Markdown object>"
      ]
     },
     "metadata": {},
     "output_type": "display_data"
    }
   ],
   "source": [
    "ollama = OpenAI(base_url='http://localhost:11434/v1', api_key='ollama')\n",
    "model_name = \"llama3.2\"\n",
    "\n",
    "response = ollama.chat.completions.create(model=model_name, messages=messages)\n",
    "answer = response.choices[0].message.content\n",
    "\n",
    "display(Markdown(answer))\n",
    "competitors.append(model_name)\n",
    "answers.append(answer)"
   ]
  },
  {
   "cell_type": "code",
   "execution_count": 14,
   "metadata": {},
   "outputs": [
    {
     "name": "stdout",
     "output_type": "stream",
     "text": [
      "['gpt-4o-mini', 'llama3.2']\n",
      "['Navigating the ethical dilemma of prioritizing collective well-being over individual rights in a society with a strict moral code that permits sacrificing individuals for the greater good requires a nuanced approach. Here are several key considerations:\\n\\n1. **Philosophical Frameworks**: Ethical challenges arise from differing philosophical perspectives. Utilitarianism promotes actions that maximize collective happiness, but this can justify harmful sacrifices. In contrast, deontological ethics emphasizes individual rights and moral duties, arguing that sacrificing individuals is inherently wrong regardless of outcomes. A society should critically evaluate these frameworks to ensure that moral decisions are not based solely on convenience or perceived utility.\\n\\n2. **Informed Consent and Autonomy**: Ethical frameworks should prioritize informed consent and respect for individual autonomy. Even in a system where individual sacrifice is permissible, it is vital to consider whether individuals can meaningfully consent to such actions. Ensuring that individuals are fully informed and able to weigh the implications of their potential sacrifice is paramount.\\n\\n3. **Transparency and Accountability**: A society that endorses sacrificing individuals for the greater good must establish mechanisms for transparency and accountability. This involves clearly defining criteria for what constitutes the \"greater good\" and who gets to decide which sacrifices are justified. Without accountability, there is a risk of abuse, where those in power might exploit the moral code for personal or political gain.\\n\\n4. **Checks and Balances**: Implementing checks and balances within the societal structure can help mitigate the dangers of sacrificing individuals. Independent institutions or committees could be tasked with reviewing and assessing the moral justifications for sacrifices, ensuring that they are made collectively rather than decisively by a select few.\\n\\n5. **Cultural and Societal Reflection**: A society must engage in constant reflection about its moral code. Are the sacrifices leading to true benefits for the collective, or are they merely reinforcing power structures or societal inequalities? Public discourse, inclusion of diverse perspectives, and ethical debate are essential for evolving moral understandings and ensuring justice.\\n\\n6. **Impact on Justice Systems**: The implications of allowing sacrifices for the greater good extend to the justice system. Standards of justice must reflect a balance between protecting individual rights and promoting collective welfare. This may involve rethinking punishment and rehabilitation if the moral framework allows for extreme measures against certain individuals for perceived societal benefit.\\n\\n7. **Long-Term Consequences**: Finally, a society should consider the long-term consequences of institutionalized sacrifice. While it may yield short-term benefits, the potential erosion of trust, social cohesion, and respect for individual rights can lead to a breakdown of the very fabric that holds society together. The moral fabric of society must not only reflect immediate needs but also consider legacy and future generations.\\n\\nIn conclusion, while the ethical navigation of collective well-being versus individual rights is complex, it necessitates grounding in firm ethical principles, promoting accountability, ensuring informed consent, and fostering an environment of open dialogue. This balanced approach can help mitigate the moral implications of sacrificing individuals for the greater good and maintain justice within society.', \"When faced with an ethical dilemma where a society's strict moral code requires sacrificing individuals for the greater good, it presents intricate challenges to navigating the balance between the two. Here are some considerations to explore:\\n\\n1\\\\. Critical examination of priorities: The key is examining your value hierarchy and re-evaluating whether certain policies, values, or beliefs are worth making decisions based upon. It might be helpful in questioning why a particular moral code has led to this situation.\\n\\n2\\\\. Legal system oversight: Involving law enforcement would help establish accountability if it seems a group is infringing on specific rights while operating under false pretenses. An independent court of inquiry can decide whether the harm endured by certain individuals due to another's actions were justifiable.\\n\\n3\\\\. Individual dissent and opposition: Recognize when an individual has strong moral objections and acknowledge these opposing viewpoints as valid. Encourage them to speak out and work towards reform from within if they feel this policy will negatively impact their community\\n\\n4\\\\. Legal avenues for advocacy: Look into the legal frameworks that exist to protect your rights or bring changes to current policies. Familiarize yourself with relevant laws, court cases, and precedents.\\n\\n5\\\\. Community education and awareness campaign: The process of educating people on how their actions are being impacted, helps create a sense of accountability. If there's enough momentum for change, this may encourage policymakers to revise the existing regulations and ensure they align with what individuals believe is right\\n\\n6\\\\. Legal reforms for broader protections: Support policy proposals that enhance protections against such situations in the future. It can be especially crucial if those subjected might not be able to advocate for themselves, or if there's potential for mass suffering.\\n\\n7\\\\. Seeking support from experts and allies \\n\\n8\\\\. Engaging with authorities at different levels, involving lawyers, ethicists, psychologists, social scientists, among others\"]\n"
     ]
    }
   ],
   "source": [
    "# So where are we?\n",
    "\n",
    "print(competitors)\n",
    "print(answers)\n"
   ]
  },
  {
   "cell_type": "code",
   "execution_count": 15,
   "metadata": {},
   "outputs": [
    {
     "name": "stdout",
     "output_type": "stream",
     "text": [
      "Competitor: gpt-4o-mini\n",
      "\n",
      "Navigating the ethical dilemma of prioritizing collective well-being over individual rights in a society with a strict moral code that permits sacrificing individuals for the greater good requires a nuanced approach. Here are several key considerations:\n",
      "\n",
      "1. **Philosophical Frameworks**: Ethical challenges arise from differing philosophical perspectives. Utilitarianism promotes actions that maximize collective happiness, but this can justify harmful sacrifices. In contrast, deontological ethics emphasizes individual rights and moral duties, arguing that sacrificing individuals is inherently wrong regardless of outcomes. A society should critically evaluate these frameworks to ensure that moral decisions are not based solely on convenience or perceived utility.\n",
      "\n",
      "2. **Informed Consent and Autonomy**: Ethical frameworks should prioritize informed consent and respect for individual autonomy. Even in a system where individual sacrifice is permissible, it is vital to consider whether individuals can meaningfully consent to such actions. Ensuring that individuals are fully informed and able to weigh the implications of their potential sacrifice is paramount.\n",
      "\n",
      "3. **Transparency and Accountability**: A society that endorses sacrificing individuals for the greater good must establish mechanisms for transparency and accountability. This involves clearly defining criteria for what constitutes the \"greater good\" and who gets to decide which sacrifices are justified. Without accountability, there is a risk of abuse, where those in power might exploit the moral code for personal or political gain.\n",
      "\n",
      "4. **Checks and Balances**: Implementing checks and balances within the societal structure can help mitigate the dangers of sacrificing individuals. Independent institutions or committees could be tasked with reviewing and assessing the moral justifications for sacrifices, ensuring that they are made collectively rather than decisively by a select few.\n",
      "\n",
      "5. **Cultural and Societal Reflection**: A society must engage in constant reflection about its moral code. Are the sacrifices leading to true benefits for the collective, or are they merely reinforcing power structures or societal inequalities? Public discourse, inclusion of diverse perspectives, and ethical debate are essential for evolving moral understandings and ensuring justice.\n",
      "\n",
      "6. **Impact on Justice Systems**: The implications of allowing sacrifices for the greater good extend to the justice system. Standards of justice must reflect a balance between protecting individual rights and promoting collective welfare. This may involve rethinking punishment and rehabilitation if the moral framework allows for extreme measures against certain individuals for perceived societal benefit.\n",
      "\n",
      "7. **Long-Term Consequences**: Finally, a society should consider the long-term consequences of institutionalized sacrifice. While it may yield short-term benefits, the potential erosion of trust, social cohesion, and respect for individual rights can lead to a breakdown of the very fabric that holds society together. The moral fabric of society must not only reflect immediate needs but also consider legacy and future generations.\n",
      "\n",
      "In conclusion, while the ethical navigation of collective well-being versus individual rights is complex, it necessitates grounding in firm ethical principles, promoting accountability, ensuring informed consent, and fostering an environment of open dialogue. This balanced approach can help mitigate the moral implications of sacrificing individuals for the greater good and maintain justice within society.\n",
      "Competitor: llama3.2\n",
      "\n",
      "When faced with an ethical dilemma where a society's strict moral code requires sacrificing individuals for the greater good, it presents intricate challenges to navigating the balance between the two. Here are some considerations to explore:\n",
      "\n",
      "1\\. Critical examination of priorities: The key is examining your value hierarchy and re-evaluating whether certain policies, values, or beliefs are worth making decisions based upon. It might be helpful in questioning why a particular moral code has led to this situation.\n",
      "\n",
      "2\\. Legal system oversight: Involving law enforcement would help establish accountability if it seems a group is infringing on specific rights while operating under false pretenses. An independent court of inquiry can decide whether the harm endured by certain individuals due to another's actions were justifiable.\n",
      "\n",
      "3\\. Individual dissent and opposition: Recognize when an individual has strong moral objections and acknowledge these opposing viewpoints as valid. Encourage them to speak out and work towards reform from within if they feel this policy will negatively impact their community\n",
      "\n",
      "4\\. Legal avenues for advocacy: Look into the legal frameworks that exist to protect your rights or bring changes to current policies. Familiarize yourself with relevant laws, court cases, and precedents.\n",
      "\n",
      "5\\. Community education and awareness campaign: The process of educating people on how their actions are being impacted, helps create a sense of accountability. If there's enough momentum for change, this may encourage policymakers to revise the existing regulations and ensure they align with what individuals believe is right\n",
      "\n",
      "6\\. Legal reforms for broader protections: Support policy proposals that enhance protections against such situations in the future. It can be especially crucial if those subjected might not be able to advocate for themselves, or if there's potential for mass suffering.\n",
      "\n",
      "7\\. Seeking support from experts and allies \n",
      "\n",
      "8\\. Engaging with authorities at different levels, involving lawyers, ethicists, psychologists, social scientists, among others\n"
     ]
    }
   ],
   "source": [
    "# It's nice to know how to use \"zip\"\n",
    "for competitor, answer in zip(competitors, answers):\n",
    "    print(f\"Competitor: {competitor}\\n\\n{answer}\")\n"
   ]
  },
  {
   "cell_type": "code",
   "execution_count": 16,
   "metadata": {},
   "outputs": [],
   "source": [
    "# Let's bring this together - note the use of \"enumerate\"\n",
    "\n",
    "together = \"\"\n",
    "for index, answer in enumerate(answers):\n",
    "    together += f\"# Response from competitor {index+1}\\n\\n\"\n",
    "    together += answer + \"\\n\\n\""
   ]
  },
  {
   "cell_type": "code",
   "execution_count": 17,
   "metadata": {},
   "outputs": [
    {
     "name": "stdout",
     "output_type": "stream",
     "text": [
      "# Response from competitor 1\n",
      "\n",
      "Navigating the ethical dilemma of prioritizing collective well-being over individual rights in a society with a strict moral code that permits sacrificing individuals for the greater good requires a nuanced approach. Here are several key considerations:\n",
      "\n",
      "1. **Philosophical Frameworks**: Ethical challenges arise from differing philosophical perspectives. Utilitarianism promotes actions that maximize collective happiness, but this can justify harmful sacrifices. In contrast, deontological ethics emphasizes individual rights and moral duties, arguing that sacrificing individuals is inherently wrong regardless of outcomes. A society should critically evaluate these frameworks to ensure that moral decisions are not based solely on convenience or perceived utility.\n",
      "\n",
      "2. **Informed Consent and Autonomy**: Ethical frameworks should prioritize informed consent and respect for individual autonomy. Even in a system where individual sacrifice is permissible, it is vital to consider whether individuals can meaningfully consent to such actions. Ensuring that individuals are fully informed and able to weigh the implications of their potential sacrifice is paramount.\n",
      "\n",
      "3. **Transparency and Accountability**: A society that endorses sacrificing individuals for the greater good must establish mechanisms for transparency and accountability. This involves clearly defining criteria for what constitutes the \"greater good\" and who gets to decide which sacrifices are justified. Without accountability, there is a risk of abuse, where those in power might exploit the moral code for personal or political gain.\n",
      "\n",
      "4. **Checks and Balances**: Implementing checks and balances within the societal structure can help mitigate the dangers of sacrificing individuals. Independent institutions or committees could be tasked with reviewing and assessing the moral justifications for sacrifices, ensuring that they are made collectively rather than decisively by a select few.\n",
      "\n",
      "5. **Cultural and Societal Reflection**: A society must engage in constant reflection about its moral code. Are the sacrifices leading to true benefits for the collective, or are they merely reinforcing power structures or societal inequalities? Public discourse, inclusion of diverse perspectives, and ethical debate are essential for evolving moral understandings and ensuring justice.\n",
      "\n",
      "6. **Impact on Justice Systems**: The implications of allowing sacrifices for the greater good extend to the justice system. Standards of justice must reflect a balance between protecting individual rights and promoting collective welfare. This may involve rethinking punishment and rehabilitation if the moral framework allows for extreme measures against certain individuals for perceived societal benefit.\n",
      "\n",
      "7. **Long-Term Consequences**: Finally, a society should consider the long-term consequences of institutionalized sacrifice. While it may yield short-term benefits, the potential erosion of trust, social cohesion, and respect for individual rights can lead to a breakdown of the very fabric that holds society together. The moral fabric of society must not only reflect immediate needs but also consider legacy and future generations.\n",
      "\n",
      "In conclusion, while the ethical navigation of collective well-being versus individual rights is complex, it necessitates grounding in firm ethical principles, promoting accountability, ensuring informed consent, and fostering an environment of open dialogue. This balanced approach can help mitigate the moral implications of sacrificing individuals for the greater good and maintain justice within society.\n",
      "\n",
      "# Response from competitor 2\n",
      "\n",
      "When faced with an ethical dilemma where a society's strict moral code requires sacrificing individuals for the greater good, it presents intricate challenges to navigating the balance between the two. Here are some considerations to explore:\n",
      "\n",
      "1\\. Critical examination of priorities: The key is examining your value hierarchy and re-evaluating whether certain policies, values, or beliefs are worth making decisions based upon. It might be helpful in questioning why a particular moral code has led to this situation.\n",
      "\n",
      "2\\. Legal system oversight: Involving law enforcement would help establish accountability if it seems a group is infringing on specific rights while operating under false pretenses. An independent court of inquiry can decide whether the harm endured by certain individuals due to another's actions were justifiable.\n",
      "\n",
      "3\\. Individual dissent and opposition: Recognize when an individual has strong moral objections and acknowledge these opposing viewpoints as valid. Encourage them to speak out and work towards reform from within if they feel this policy will negatively impact their community\n",
      "\n",
      "4\\. Legal avenues for advocacy: Look into the legal frameworks that exist to protect your rights or bring changes to current policies. Familiarize yourself with relevant laws, court cases, and precedents.\n",
      "\n",
      "5\\. Community education and awareness campaign: The process of educating people on how their actions are being impacted, helps create a sense of accountability. If there's enough momentum for change, this may encourage policymakers to revise the existing regulations and ensure they align with what individuals believe is right\n",
      "\n",
      "6\\. Legal reforms for broader protections: Support policy proposals that enhance protections against such situations in the future. It can be especially crucial if those subjected might not be able to advocate for themselves, or if there's potential for mass suffering.\n",
      "\n",
      "7\\. Seeking support from experts and allies \n",
      "\n",
      "8\\. Engaging with authorities at different levels, involving lawyers, ethicists, psychologists, social scientists, among others\n",
      "\n",
      "\n"
     ]
    }
   ],
   "source": [
    "print(together)"
   ]
  },
  {
   "cell_type": "code",
   "execution_count": 18,
   "metadata": {},
   "outputs": [],
   "source": [
    "judge = f\"\"\"You are judging a competition between {len(competitors)} competitors.\n",
    "Each model has been given this question:\n",
    "\n",
    "{question}\n",
    "\n",
    "Your job is to evaluate each response for clarity and strength of argument, and rank them in order of best to worst.\n",
    "Respond with JSON, and only JSON, with the following format:\n",
    "{{\"results\": [\"best competitor number\", \"second best competitor number\", \"third best competitor number\", ...]}}\n",
    "\n",
    "Here are the responses from each competitor:\n",
    "\n",
    "{together}\n",
    "\n",
    "Now respond with the JSON with the ranked order of the competitors, nothing else. Do not include markdown formatting or code blocks.\"\"\"\n"
   ]
  },
  {
   "cell_type": "code",
   "execution_count": 19,
   "metadata": {},
   "outputs": [
    {
     "name": "stdout",
     "output_type": "stream",
     "text": [
      "You are judging a competition between 2 competitors.\n",
      "Each model has been given this question:\n",
      "\n",
      "If a society has a strict moral code that permits sacrificing individuals for the greater good, how should one navigate the ethical dilemma of prioritizing collective well-being over individual rights, and what implications does this have for justice and accountability within that society?\n",
      "\n",
      "Your job is to evaluate each response for clarity and strength of argument, and rank them in order of best to worst.\n",
      "Respond with JSON, and only JSON, with the following format:\n",
      "{\"results\": [\"best competitor number\", \"second best competitor number\", \"third best competitor number\", ...]}\n",
      "\n",
      "Here are the responses from each competitor:\n",
      "\n",
      "# Response from competitor 1\n",
      "\n",
      "Navigating the ethical dilemma of prioritizing collective well-being over individual rights in a society with a strict moral code that permits sacrificing individuals for the greater good requires a nuanced approach. Here are several key considerations:\n",
      "\n",
      "1. **Philosophical Frameworks**: Ethical challenges arise from differing philosophical perspectives. Utilitarianism promotes actions that maximize collective happiness, but this can justify harmful sacrifices. In contrast, deontological ethics emphasizes individual rights and moral duties, arguing that sacrificing individuals is inherently wrong regardless of outcomes. A society should critically evaluate these frameworks to ensure that moral decisions are not based solely on convenience or perceived utility.\n",
      "\n",
      "2. **Informed Consent and Autonomy**: Ethical frameworks should prioritize informed consent and respect for individual autonomy. Even in a system where individual sacrifice is permissible, it is vital to consider whether individuals can meaningfully consent to such actions. Ensuring that individuals are fully informed and able to weigh the implications of their potential sacrifice is paramount.\n",
      "\n",
      "3. **Transparency and Accountability**: A society that endorses sacrificing individuals for the greater good must establish mechanisms for transparency and accountability. This involves clearly defining criteria for what constitutes the \"greater good\" and who gets to decide which sacrifices are justified. Without accountability, there is a risk of abuse, where those in power might exploit the moral code for personal or political gain.\n",
      "\n",
      "4. **Checks and Balances**: Implementing checks and balances within the societal structure can help mitigate the dangers of sacrificing individuals. Independent institutions or committees could be tasked with reviewing and assessing the moral justifications for sacrifices, ensuring that they are made collectively rather than decisively by a select few.\n",
      "\n",
      "5. **Cultural and Societal Reflection**: A society must engage in constant reflection about its moral code. Are the sacrifices leading to true benefits for the collective, or are they merely reinforcing power structures or societal inequalities? Public discourse, inclusion of diverse perspectives, and ethical debate are essential for evolving moral understandings and ensuring justice.\n",
      "\n",
      "6. **Impact on Justice Systems**: The implications of allowing sacrifices for the greater good extend to the justice system. Standards of justice must reflect a balance between protecting individual rights and promoting collective welfare. This may involve rethinking punishment and rehabilitation if the moral framework allows for extreme measures against certain individuals for perceived societal benefit.\n",
      "\n",
      "7. **Long-Term Consequences**: Finally, a society should consider the long-term consequences of institutionalized sacrifice. While it may yield short-term benefits, the potential erosion of trust, social cohesion, and respect for individual rights can lead to a breakdown of the very fabric that holds society together. The moral fabric of society must not only reflect immediate needs but also consider legacy and future generations.\n",
      "\n",
      "In conclusion, while the ethical navigation of collective well-being versus individual rights is complex, it necessitates grounding in firm ethical principles, promoting accountability, ensuring informed consent, and fostering an environment of open dialogue. This balanced approach can help mitigate the moral implications of sacrificing individuals for the greater good and maintain justice within society.\n",
      "\n",
      "# Response from competitor 2\n",
      "\n",
      "When faced with an ethical dilemma where a society's strict moral code requires sacrificing individuals for the greater good, it presents intricate challenges to navigating the balance between the two. Here are some considerations to explore:\n",
      "\n",
      "1\\. Critical examination of priorities: The key is examining your value hierarchy and re-evaluating whether certain policies, values, or beliefs are worth making decisions based upon. It might be helpful in questioning why a particular moral code has led to this situation.\n",
      "\n",
      "2\\. Legal system oversight: Involving law enforcement would help establish accountability if it seems a group is infringing on specific rights while operating under false pretenses. An independent court of inquiry can decide whether the harm endured by certain individuals due to another's actions were justifiable.\n",
      "\n",
      "3\\. Individual dissent and opposition: Recognize when an individual has strong moral objections and acknowledge these opposing viewpoints as valid. Encourage them to speak out and work towards reform from within if they feel this policy will negatively impact their community\n",
      "\n",
      "4\\. Legal avenues for advocacy: Look into the legal frameworks that exist to protect your rights or bring changes to current policies. Familiarize yourself with relevant laws, court cases, and precedents.\n",
      "\n",
      "5\\. Community education and awareness campaign: The process of educating people on how their actions are being impacted, helps create a sense of accountability. If there's enough momentum for change, this may encourage policymakers to revise the existing regulations and ensure they align with what individuals believe is right\n",
      "\n",
      "6\\. Legal reforms for broader protections: Support policy proposals that enhance protections against such situations in the future. It can be especially crucial if those subjected might not be able to advocate for themselves, or if there's potential for mass suffering.\n",
      "\n",
      "7\\. Seeking support from experts and allies \n",
      "\n",
      "8\\. Engaging with authorities at different levels, involving lawyers, ethicists, psychologists, social scientists, among others\n",
      "\n",
      "\n",
      "\n",
      "Now respond with the JSON with the ranked order of the competitors, nothing else. Do not include markdown formatting or code blocks.\n"
     ]
    }
   ],
   "source": [
    "print(judge)"
   ]
  },
  {
   "cell_type": "code",
   "execution_count": 20,
   "metadata": {},
   "outputs": [],
   "source": [
    "judge_messages = [{\"role\": \"user\", \"content\": judge}]"
   ]
  },
  {
   "cell_type": "code",
   "execution_count": 21,
   "metadata": {},
   "outputs": [
    {
     "name": "stdout",
     "output_type": "stream",
     "text": [
      "{\"results\": [\"1\", \"2\"]}\n"
     ]
    }
   ],
   "source": [
    "# Judgement time!\n",
    "\n",
    "openai = OpenAI()\n",
    "response = openai.chat.completions.create(\n",
    "    model=\"o3-mini\",\n",
    "    messages=judge_messages,\n",
    ")\n",
    "results = response.choices[0].message.content\n",
    "print(results)\n"
   ]
  },
  {
   "cell_type": "code",
   "execution_count": 22,
   "metadata": {},
   "outputs": [
    {
     "name": "stdout",
     "output_type": "stream",
     "text": [
      "Rank 1: gpt-4o-mini\n",
      "Rank 2: llama3.2\n"
     ]
    }
   ],
   "source": [
    "# OK let's turn this into results!\n",
    "\n",
    "results_dict = json.loads(results)\n",
    "ranks = results_dict[\"results\"]\n",
    "for index, result in enumerate(ranks):\n",
    "    competitor = competitors[int(result)-1]\n",
    "    print(f\"Rank {index+1}: {competitor}\")"
   ]
  },
  {
   "cell_type": "markdown",
   "metadata": {},
   "source": [
    "<table style=\"margin: 0; text-align: left; width:100%\">\n",
    "    <tr>\n",
    "        <td style=\"width: 150px; height: 150px; vertical-align: middle;\">\n",
    "            <img src=\"../assets/exercise.png\" width=\"150\" height=\"150\" style=\"display: block;\" />\n",
    "        </td>\n",
    "        <td>\n",
    "            <h2 style=\"color:#ff7800;\">Exercise</h2>\n",
    "            <span style=\"color:#ff7800;\">Which pattern(s) did this use? Try updating this to add another Agentic design pattern.\n",
    "            </span>\n",
    "        </td>\n",
    "    </tr>\n",
    "</table>"
   ]
  },
  {
   "cell_type": "markdown",
   "metadata": {},
   "source": [
    "<table style=\"margin: 0; text-align: left; width:100%\">\n",
    "    <tr>\n",
    "        <td style=\"width: 150px; height: 150px; vertical-align: middle;\">\n",
    "            <img src=\"../assets/business.png\" width=\"150\" height=\"150\" style=\"display: block;\" />\n",
    "        </td>\n",
    "        <td>\n",
    "            <h2 style=\"color:#00bfff;\">Commercial implications</h2>\n",
    "            <span style=\"color:#00bfff;\">These kinds of patterns - to send a task to multiple models, and evaluate results,\n",
    "            are common where you need to improve the quality of your LLM response. This approach can be universally applied\n",
    "            to business projects where accuracy is critical.\n",
    "            </span>\n",
    "        </td>\n",
    "    </tr>\n",
    "</table>"
   ]
  }
 ],
 "metadata": {
  "kernelspec": {
   "display_name": ".venv",
   "language": "python",
   "name": "python3"
  },
  "language_info": {
   "codemirror_mode": {
    "name": "ipython",
    "version": 3
   },
   "file_extension": ".py",
   "mimetype": "text/x-python",
   "name": "python",
   "nbconvert_exporter": "python",
   "pygments_lexer": "ipython3",
   "version": "3.12.10"
  }
 },
 "nbformat": 4,
 "nbformat_minor": 2
}
